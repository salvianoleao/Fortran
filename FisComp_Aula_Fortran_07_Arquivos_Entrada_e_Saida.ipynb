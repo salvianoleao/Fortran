{
 "cells": [
  {
   "cell_type": "markdown",
   "metadata": {},
   "source": [
    "![Logotipo do IF](../Figs/Cab_IF_Red_01.png)\n",
    "\n",
    "<!--\n",
    "<h1> <span style=\"color:blue\">Curso de Física Computacional </span> </h1> \n",
    "-->\n",
    "\n",
    "<p style=\"margin-bottom:1cm;\"> </p>\n",
    "\n",
    "\n",
    "<center> <font size=\"8\" color=\"blue\">Curso de Física Computacional</font> </center>\n",
    "\n",
    "\n",
    "<font size=\"5\" color=\"blue\">**Prof. :** Salviano A. Leão -- Instituto de Física - UFG-GO</font>\n",
    "\n",
    "\n",
    "Esse material faz parte do curso de Física Computacional."
   ]
  },
  {
   "cell_type": "markdown",
   "metadata": {},
   "source": [
    "# Aula 05 de Fortran"
   ]
  },
  {
   "cell_type": "markdown",
   "metadata": {},
   "source": [
    "# Controle da Entrada/Saída (E/S) de Dados\n",
    "\n",
    "- **Leitura:** `READ`\n",
    "- **Escrita:** `WRITE` e `PRINT`\n",
    "- **Formatação:** `FORMAT`\n",
    "- **Especificadores de Entrada/Saída:** `A,I,F,E,G`, etc.\n",
    "- **Arquivos:** `OPEN, CLOSE, BACKSPACE, REWIND, ENDFILE, INQUIRE`\n",
    "   - Os dados de E/S num programa organizados em <span style=\"color:red\">registros</span>\n",
    "    e <span style=\"color:red\">arquivos</span>.\n",
    "\n",
    "### Registro\n",
    "\n",
    "É uma sequência de valores ou uma sequência de caracteres. Há três tipos de registros no Fortran:\n",
    "\n",
    "- **Formatted** Um registro que contém dados formatados precisará de uma transposição da forma interna para a externa. Uma declaração FORMATTED de entrada e saída tem uma forma específica. Somente uma declaração de entrada/saída formatada poderá ler dados formatados.\n",
    "\n",
    "- **Unformatted** Um registro que contém dados não formatados não precisará de uma transposição da forma interna para a externa. Um registro não formatado não precisa conter dados. A representação interna de um dado não formatado depende do processador. Somente uma declaração de entrada/saída não formatada poderá ler dados não formatados.\n",
    "\n",
    "- **Endfile** É o último registro de um arquivo. Um registro de fim de arquivo pode ser escrito explicitamente em um arquivo sequencial por um declaração <span style=\"color:red\">ENDFILE</span>.\n",
    "\n",
    "\n",
    "### Arquivos\n",
    "\n",
    "Um <span style=\"color:red\">arquivo</span> é constituído por uma sequência de\n",
    "registros. Existem dois tipos de arquivos no FORTRAN:\n",
    "\n",
    "- **Externos:** Um arquivo que existe no meio, tal como no disco rígido, num disquete, num cdrom, etc. Os registros no arquivo externo devem ser todos <span style=\"color:red\">FORMATTED</span> ou <span style=\"color:red\">UNFORMATTED</span>. Existem dois modos de acessar os arquivos externos: <span style=\"color:blue\">acesso sequencial ou direto</span>. No acesso sequencial, os registros são processados na ordem na qual eles aparecem no arquivo. No acesso direto, os registros são selecionados pelo número do registro, então eles podem ser processados em uma ordem qualquer.\n",
    "\n",
    "- **Internos:** Armazenamento na memória interna, a qual se comporta como um arquivo interno. Este tipo de arquivo fornece um modo de transferir e converter dados da memória de um formato para outro. Os conteúdos destes arquivos são armazenados como variáveis caracteres escalares.\n",
    "\n",
    "\n",
    "\n",
    "### Componentes da Declaração de Transferência de Dados\n",
    "\n",
    "Uma transferência de dados tem uma das seguintes formas:\n",
    "\n",
    "- Comando de E/S (lista de controle de E/S) Lista de parâmetros de E/S.\n",
    "- Formato do comando de E/S (Lista de parâmetros de E/S)\n",
    "- Um Comando de E/S é um dos seguintes: `ACCEPT`, `PRINT`, (ou `TYPE`), `READ`, `REWRITE`, ou `WRITE`.\n",
    "- Uma lista de controle de E/S é uma ou mais dos seguintes controles de especificação de E/S:\n",
    "   - **UNIT=** Unidade de E/S **NML=** Grupo END ERR REC\n",
    "   - **FMT=** Formato `ADVANCE`, `EOR`, `IOSTAT` e `SIZE`\n",
    "\n",
    "### Lista de E/S\n",
    "\n",
    "\n",
    "- Uma lista de E/S, pode conter variáveis (exceto para matrizes de tamanho assumido) ou um `DO` implícito.\n",
    "\n",
    "- As declarações de saída podem conter constantes ou expressões.\n",
    "\n",
    "- O formato de declaração <span style=\"color:red\">FORMAT</span> é uma forma decontrolar o formato específico de uma lista. Se um `format` for especificado (`[FMT]=format`) o padrão de E/S será formatado caso contrário ele não terá um formato.\n",
    "\n"
   ]
  },
  {
   "cell_type": "markdown",
   "metadata": {},
   "source": [
    "## Entrada e Saída de Dados: READ/WRITE\n",
    "\n",
    "- **Leitura:** `READ`\n",
    "- **Escrita:** `WRITE` e `PRINT`\n",
    "- **Formatação:** `FORMAT`\n",
    "- **Especificação:** Há um para cada tipo de variável:  `A, E, F, G, I, L`\n",
    "   - `A` para caracteres\n",
    "   - `E, F, G` para os números reais\n",
    "   - `I` para os inteiros\n",
    "   - `L` para as variáveis lógicas\n",
    "   \n",
    "Um <span style=\"color:blue\">descritor</span> de dados deve ser fornecido para cada item de dados presente (ou implícito) em uma lista de transferência de dados. Real, dupla precisão e itens complexos podem usar qualquer um dos descritores `E`, `F` ou `G`, mas em todos os outros casos o tipo de dados deve corresponder. Dois descritores de ponto flutuante são necessários para cada valor complexo.\n",
    "\n",
    "| Tipo de dados | Descritores de dados              |\n",
    "|:--------------|:----------------------------------|\n",
    "| `integer`     | Iw, Iw.m                          |\n",
    "| `real`        | Ew.d, Ew.dEe, Fw.d, Gw.d, Gw.dEe  | \n",
    "| `complex`     | Ew.d, Ew.dEe, Fw.d, Gw.d, Gw.dEe  |\n",
    "| `Logical`     | Lw                                | \n",
    "| `character`   | A, Aw                             | \n",
    "\n",
    "As letras <span style=\"color:red\">w</span>, <span style=\"color:red\">m</span>, <span style=\"color:red\">d</span> e <span style=\"color:red\">e</span> usadas com esses descritores de dados representam constantes inteiras.\n",
    "\n",
    "- W ($w>0$) é a largura total do campo.\n",
    "- M é o número mínimo de dígitos produzidos na saída.\n",
    "- D é o número de dígitos após o ponto decimal.\n",
    "- E é o número de dígitos usados para o expoente.\n",
    "\n",
    "Qualquer descritor de dados pode ser precedido por um fator de repetição (também um inteiro sem sinal), assim: `3F6.0` é equivalente a `F6.0, F6.0, F6.0`\n",
    "\n"
   ]
  },
  {
   "cell_type": "markdown",
   "metadata": {},
   "source": [
    "## Tópicos de Entrada/Saída de Dados (E/S)\n",
    "\n",
    "A seguir serão tratados os seguintes tópicos\n",
    "\n",
    "- Sem-avanço E/S`\n",
    "- INQUIRE por uma lista de  E/S`\n",
    "- NAMELIST`\n",
    "- Novos especificadores na edição`\n",
    "- Novos especificadores\n",
    "\n",
    "### Entrada/Saída Sem Avanço\n",
    "\n",
    "- Cada `READ` ou `WRITE` normalmente envolve um registro completo\n",
    "- E/S sem-avanço permite um `READ` ou `WRITE` sem avançar a posição para um novo registro\n",
    "-  `ADVANCE='NO'` especificador:\n",
    "```Fortran\n",
    "WRITE(*, '(''Input size? '')', ADVANCE='NO')\n",
    "READ(*, '(I5)') n\n",
    "```\n",
    "- E/S sem-avanço não é aplicável com listas diretas de E/S\n",
    "\n",
    "\n",
    "### `INQUIRE` Pela Lista de E/S\n",
    "\n",
    "`INQUIRE (IOLENGTH=comprimento) lista-de-saida`\n",
    "\n",
    "- Determina o comprimento de um item da lista de saída não formatada.\n",
    "- Pode ser usado como valor do especificador de gravação `RECL` na declaração `OPEN` subsequente.\n",
    "\n",
    "\n",
    "```Fortran\n",
    "INTEGER :: rec_len\n",
    "...\n",
    "INQUIRE (IOLENGTH = rec_len) name, title, age, address, tel\n",
    "...\n",
    "OPEN (UNIT = 1, FILE = 'test', RECL = rec_len, FORM = 'UNFORMATTED')\n",
    "...\n",
    "WRITE(1) name, title, age, address, tel\n",
    "...\n",
    "```"
   ]
  },
  {
   "cell_type": "markdown",
   "metadata": {},
   "source": [
    "\n",
    "## A declaração `NAMELIST`\n",
    "\n",
    "Às vezes é conveniente reunir um conjunto de variáveis em um único grupo, para facilitar as operações de entrada/saída (E/S) no grupo como um todo. O método pelo qual um grupo é declarado é através da declaração namelist que em sua forma simples tem a sintaxe\n",
    "\n",
    "```fortran\n",
    "namelist namelist-espec\n",
    "```\n",
    "\n",
    "na qual `namelist-espec` é\n",
    "\n",
    "```fortran\n",
    "/namelist-nome-do-grupo/ lista-de-variáveis \n",
    "```\n",
    "\n",
    "O `namelist-nome-do-grupo` é o nome dado ao grupo para uso subsequente nas instruções de E/S. Uma variável nomeada na lista não deve ser uma matriz fictícia com um limite não constante, uma variável com comprimento de caractere não constante, um objeto automático, uma matriz alocável, um ponteiro ou um componente em qualquer profundidade de seleção de componente que é um ponteiro, é `allocatable` ou é inacessível. Um exemplo é\n",
    "\n",
    "```fortran\n",
    "real :: energia, niveis, temperatura(10)\n",
    "namelist /simulacao/ energia, niveis, temperatura\n",
    "```\n",
    "\n",
    "É possível declarar vários grupos de listas de nomes em uma instrução, com a sintaxe\n",
    "\n",
    "```fortran\n",
    "namelist namelist-espec [[,]namelist-espec]...\n",
    "```\n",
    "\n",
    "como no seguinte exemplo\n",
    "\n",
    "```fortran\n",
    "namelist /lista1/ a, b, c /lista2/ x, y, z\n",
    "```\n",
    "\n",
    "É possível continuar uma lista dentro da mesma unidade de escopo, repetindo o nome da lista de nomes em mais de uma instrução. Portanto,\n",
    "\n",
    "```fortran\n",
    "namelist /lista/ a, b, c\n",
    "namelist /lista/ d, e, f\n",
    "```\n",
    "\n",
    "tem o mesmo efeito que uma única instrução contendo todos os nomes de variáveis na mesma ordem. Um objeto de um grupo de lista de nomes pode aparecer mais de uma vez em um grupo de lista de nomes e pode pertencer a mais de um grupo de lista de nomes.\n",
    "\n",
    "Se o tipo, os parâmetros de tipo ou a forma de uma variável de lista de nomes for especificada em uma instrução de especificação na mesma unidade de escopo, a instrução de especificação deve aparecer antes da instrução `namelist` ou ser uma declaração de declaração de tipo que confirme a regra de digitação implícita em vigor na unidade de escopo para a letra inicial da variável. Além disso, se o grupo de lista de nomes tiver o atributo `public`, nenhuma variável na lista poderá ter o atributo `private` ou ter componentes privados.\n",
    "\n",
    "\n",
    "## `NAMELIST` E/S\n",
    "\n",
    "Pode ser útil, especialmente para testes de programas, inserir ou enviar uma lista anotada de valores. Os valores requeridos são especificados em um grupo de lista de nomes, e a E/S é executada por uma instrução de leitura ou gravação que não possui uma lista de E/S, e na qual\n",
    "\n",
    "- o formato é substituído por um nome `namelist-grupo` como o segundo parâmetro posicional; ou\n",
    "- o especificador `fmt =` é substituído por um especificador `nml =` com esse nome.\n",
    "\n",
    "Ao ler, apenas os objetos especificados no registro de entrada e que não possuem um valor nulo são definidos. Todos os outros itens da lista permanecem em seu estado atual de definição ou indefinição. É possível definir o valor de um elemento ou seção da matriz sem afetar as outras partes da matriz. Ao escrever, todos os itens do grupo são gravados no arquivo especificado. Essa forma de E/S não está disponível para arquivos internos.\n",
    "\n",
    "O valor para um objeto escalar ou lista de valores para uma matriz é precedido nos registros pelo nome ou designador e um sinal de igual que pode opcionalmente ser precedido ou seguido por espaços em branco. A forma da lista de valores e valores nulos nos registros de entrada e saída é como aquela para E/S direcionadas a lista, exceto que as constantes de caracteres sempre devem ser delimitadas em registros de entrada e constantes lógicas não devem conter iguais placa. Uma declaração de entrada da lista de nomes termina na aparência de uma barra na lista fora de uma constante de caractere. Um exemplo simples é\n",
    "\n",
    "```fortran\n",
    "integer :: no_de_orb, degenerescencia, spin\n",
    "namelist/estado/ no_de_orb, degenerescencia, spin\n",
    "read (5, nml=estado)\n",
    "```\n",
    "\n",
    "para ler o registro faça\n",
    "\n",
    "```fortran\n",
    "&estado degenerescencia=2, no_de_orb=20 /\n",
    "```\n",
    "\n",
    "na qual notamos que a ordem dos dois valores fornecidos não é a mesma que a ordem deles no grupo de lista de nomes - as ordens não precisam necessariamente corresponder. O valor de `spin` permanece inalterado. O primeiro item não branco no registro é um `&` comercial seguido sem um espaço em branco interveniente pelo nome do grupo. A barra é obrigatória como terminador. Na saída, uma lista anotada de valores semelhante é produzida, começando com o nome do grupo e terminando com uma barra. Aqui, a ordem é a do grupo de lista de nomes. Assim, as declarações\n",
    "\n",
    "\n",
    "```fortran\n",
    "integer :: numero, lista(10)\n",
    "namelist/saida/numero, lista\n",
    "write (6, nml=saida)\n",
    "```\n",
    "\n",
    "pode produzir o seguinte regisro\n",
    "\n",
    "```fortran\n",
    "&SAIDA NUMERO=1, LISTA=14, 9*0 /\n",
    "```\n",
    "\n",
    "Na saída, os nomes estão sempre em maiúsculas.\n",
    "\n",
    "Quando um designador de subobjeto aparece em um registro de entrada, todas as expressões, subíndices e passos de subcadeia devem ser constantes literais de inteiro escalar sem parâmetros de tipo especificados. Todos os nomes de grupos, nomes de objetos e nomes de componentes são interpretados sem considerar o caso. Os espaços em branco podem preceder ou seguir o nome ou designador, mas não devem aparecer dentro dele.\n",
    "\n",
    "Se o objeto é escalar e do tipo intrínseco, o sinal de igual deve ser seguido por um valor. Se for do tipo derivado ou for um array, o sinal de igual deve ser seguido por uma lista de valores do tipo intrínseco correspondente à substituição de cada valor do tipo derivado por seus componentes finais e cada array por seus elementos na ordem dos elementos do array.\n",
    "\n",
    "A lista de valores não deve ser muito longa, mas pode ser muito curta, em cujo caso os valores nulos finais são considerados como tendo sido anexados. Se um objeto é do tipo caractere, o item correspondente deve ser do mesmo tipo.\n",
    "\n",
    "Objetos com tamanho zero não devem aparecer em um registro de entrada de lista de nomes. Em qualquer ocorrência múltipla de um objeto em uma sequência de registros de entrada, o valor final é obtido.\n",
    "\n",
    "Os registros de entrada para a entrada da lista de nomes podem conter um comentário após um nome/valor de objeto diferente de uma barra. Isso permite que os programadores documentem a estrutura de um arquivo de entrada de lista de nomes linha por linha. O comentário está no formato usual para comentários. O registro de entrada desta seção pode ser documentado assim:\n",
    "\n",
    "```fortran\n",
    "&estado degenerescencia=2,          ! A degenerescência de cada orbital\n",
    "no_de_orb=20 /\n",
    "```\n",
    "\n",
    "Uma linha de comentário, com `!` como o primeiro caractere não em branco em um registro de entrada, também é permitido, mas não pode ocorrer em um contexto de caractere.\n",
    "\n",
    "\n",
    "Basicamente uma `namelist`\n",
    "\n",
    "- Aglomera (junta) um conjunto de variáveis num grupo para simplificara E/S.\n",
    "- A forma geral de uma declaração NAMELIST: NAMELIST /namelist-nome-do-grupo/ lista-de-variaveis\n",
    "- Use o namelist-nome-do-grupo como formato em vez de uma lista de E/S nos comandos READ e WRITE.\n",
    "- Formato específico para gravar uma entrada:\n",
    "\n",
    "```Fortran\n",
    "&namelist-nome-do-grupo var2=x, var1=y, var3=z/\n",
    "```\n",
    "- Variáveis opcionais e ordem não-importante\n",
    "\n",
    "### Exemplo\n",
    "\n",
    "```fortran\n",
    "PROGRAM teste_print\n",
    "   REAL, dimension (4) :: x = (/1.0, 2.0, 3.0, 4.0/)\n",
    "   NAMELIST /vetor/ x\n",
    "   PRINT vetor\n",
    "END PROGRAM teste_print\n",
    "```\n",
    "\n",
    "\n",
    "```Fortran\n",
    "PROGRAM test_namelist\n",
    "  IMPLICIT NONE\n",
    "  INTEGER             :: tamanho = 42\n",
    "  REAL                :: fl= 34.7\n",
    "  ! No caso dos caracteres todos devem possuir o mesmo tamanho\n",
    "  CHARACTER (LEN = 8) :: cor(3)=(/ 'Azul    ', 'Verde   ', 'Vermelho' /)\n",
    "  NAMELIST /roupas/ tamanho, fl , cor\n",
    "  WRITE(*, NML=roupas )\n",
    "END PROGRAM test_namelist\n",
    "```\n",
    "\n",
    "A saída do programa acima tera a seguinte forma\n",
    "\n",
    "\n",
    "```bash\n",
    "&ROUPAS\n",
    " TAMANHO=         42,\n",
    " FL=  34.7000008    ,\n",
    " COR=\"Azul    \",\"Verde   \",\"Vermelho\",\n",
    " /\n",
    "```\n"
   ]
  },
  {
   "cell_type": "code",
   "execution_count": 1,
   "metadata": {
    "ExecuteTime": {
     "end_time": "2019-02-25T21:00:20.326403Z",
     "start_time": "2019-02-25T21:00:20.236988Z"
    }
   },
   "outputs": [
    {
     "name": "stdout",
     "output_type": "stream",
     "text": [
      "Overwriting src/namelist_01.f95\n"
     ]
    }
   ],
   "source": [
    "%%writefile src/namelist_01.f95\n",
    "PROGRAM teste_print\n",
    "   REAL, dimension (4) :: x = (/1.0, 2.0, 3.0, 4.0/)\n",
    "   NAMELIST /vetor/ x\n",
    "   PRINT vetor\n",
    "END PROGRAM teste_print"
   ]
  },
  {
   "cell_type": "code",
   "execution_count": 2,
   "metadata": {
    "ExecuteTime": {
     "end_time": "2019-02-25T21:00:31.148294Z",
     "start_time": "2019-02-25T21:00:29.847672Z"
    }
   },
   "outputs": [],
   "source": [
    "# A seguir vamos compilar o programa\n",
    "!f95  -o x src/namelist_01.f95\n",
    "# se usarmos -std=f95, ou -std=f2003 ou -std=f2008 obtém-se um erro, \n",
    "# pois trata-se de uma extensão do gfortran"
   ]
  },
  {
   "cell_type": "code",
   "execution_count": 3,
   "metadata": {
    "ExecuteTime": {
     "end_time": "2019-02-25T21:00:33.070762Z",
     "start_time": "2019-02-25T21:00:32.410791Z"
    }
   },
   "outputs": [
    {
     "name": "stdout",
     "output_type": "stream",
     "text": [
      "&VETOR\r\n",
      " X=  1.00000000    ,  2.00000000    ,  3.00000000    ,  4.00000000    ,\r\n",
      " /\r\n"
     ]
    }
   ],
   "source": [
    "# Rodando o programa\n",
    "! ./x"
   ]
  },
  {
   "cell_type": "code",
   "execution_count": 7,
   "metadata": {
    "ExecuteTime": {
     "end_time": "2019-01-24T10:48:06.323213Z",
     "start_time": "2019-01-24T10:48:06.318520Z"
    }
   },
   "outputs": [
    {
     "name": "stdout",
     "output_type": "stream",
     "text": [
      "Writing src/namelist_02.f95\n"
     ]
    }
   ],
   "source": [
    "%%writefile src/namelist_02.f95\n",
    "PROGRAM teste_write\n",
    "   REAL, dimension(4) :: x = (/1.0, 2.0, 3.0, 4.0/)\n",
    "   NAMELIST /vetor/ x\n",
    "   WRITE(*,NML=vetor)\n",
    "END PROGRAM teste_write"
   ]
  },
  {
   "cell_type": "code",
   "execution_count": 8,
   "metadata": {
    "ExecuteTime": {
     "end_time": "2019-01-24T10:48:40.897534Z",
     "start_time": "2019-01-24T10:48:40.721975Z"
    }
   },
   "outputs": [],
   "source": [
    "# A seguir vamos compilar o programa\n",
    "!f95 -std=f2008 -Wall -Waliasing -pedantic -Wsurprising -Wunderflow  -o x src/namelist_02.f95"
   ]
  },
  {
   "cell_type": "code",
   "execution_count": 61,
   "metadata": {
    "ExecuteTime": {
     "end_time": "2019-01-24T11:12:30.964699Z",
     "start_time": "2019-01-24T11:12:30.852988Z"
    }
   },
   "outputs": [
    {
     "name": "stdout",
     "output_type": "stream",
     "text": [
      "           0           1           2           3           4           5           6           7           8           9\r\n"
     ]
    }
   ],
   "source": [
    "# Rodando o programa\n",
    "! ./x"
   ]
  },
  {
   "cell_type": "code",
   "execution_count": 69,
   "metadata": {
    "ExecuteTime": {
     "end_time": "2019-01-24T11:18:56.903584Z",
     "start_time": "2019-01-24T11:18:56.893473Z"
    }
   },
   "outputs": [
    {
     "name": "stdout",
     "output_type": "stream",
     "text": [
      "Overwriting src/namelist_03.f95\n"
     ]
    }
   ],
   "source": [
    "%%writefile src/namelist_03.f95\n",
    "PROGRAM test_namelist\n",
    "  IMPLICIT NONE\n",
    "  INTEGER             :: tamanho = 42\n",
    "  REAL                :: fl= 34.7\n",
    "  ! No caso dos caracteres todos devem possuir o mesmo tamanho\n",
    "  CHARACTER (LEN = 8) :: cor(3)=(/ 'Azul    ', 'Verde   ', 'Vermelho' /)\n",
    "  NAMELIST /roupas/ tamanho, fl , cor\n",
    "  WRITE(*, NML=roupas )\n",
    "END PROGRAM test_namelist"
   ]
  },
  {
   "cell_type": "code",
   "execution_count": 70,
   "metadata": {
    "ExecuteTime": {
     "end_time": "2019-01-24T11:18:58.219786Z",
     "start_time": "2019-01-24T11:18:58.030952Z"
    }
   },
   "outputs": [],
   "source": [
    "# A seguir vamos compilar o programa\n",
    "!f95 -std=f2008 -Wall -Waliasing -pedantic -Wsurprising -Wunderflow -o x src/namelist_03.f95"
   ]
  },
  {
   "cell_type": "code",
   "execution_count": 71,
   "metadata": {
    "ExecuteTime": {
     "end_time": "2019-01-24T11:19:06.861658Z",
     "start_time": "2019-01-24T11:19:06.749621Z"
    }
   },
   "outputs": [
    {
     "name": "stdout",
     "output_type": "stream",
     "text": [
      "&ROUPAS\r\n",
      " TAMANHO=         42,\r\n",
      " FL=  34.7000008    ,\r\n",
      " COR=\"Azul    \",\"Verde   \",\"Vermelho\",\r\n",
      " /\r\n"
     ]
    }
   ],
   "source": [
    "! ./x"
   ]
  },
  {
   "cell_type": "markdown",
   "metadata": {},
   "source": [
    "## Leitura de uma `NAMELIST`"
   ]
  },
  {
   "cell_type": "code",
   "execution_count": 52,
   "metadata": {
    "ExecuteTime": {
     "end_time": "2019-01-24T11:03:21.447597Z",
     "start_time": "2019-01-24T11:03:21.441510Z"
    }
   },
   "outputs": [
    {
     "name": "stdout",
     "output_type": "stream",
     "text": [
      "Overwriting src/lista-de-entrada.txt\n"
     ]
    }
   ],
   "source": [
    "%%writefile src/lista-de-entrada.txt\n",
    "&LISTA\n",
    "a = 0, 1, 2, 3, 4, 5, 6, 7, 8, 9, \n",
    "/"
   ]
  },
  {
   "cell_type": "code",
   "execution_count": 53,
   "metadata": {
    "ExecuteTime": {
     "end_time": "2019-01-24T11:03:24.290962Z",
     "start_time": "2019-01-24T11:03:24.178892Z"
    }
   },
   "outputs": [
    {
     "name": "stdout",
     "output_type": "stream",
     "text": [
      "&LISTA\r\n",
      "a = 0, 1, 2, 3, 4, 5, 6, 7, 8, 9, \r\n",
      "/\r\n"
     ]
    }
   ],
   "source": [
    "! cat src/lista-de-entrada.txt"
   ]
  },
  {
   "cell_type": "code",
   "execution_count": 54,
   "metadata": {
    "ExecuteTime": {
     "end_time": "2019-01-24T11:03:27.980133Z",
     "start_time": "2019-01-24T11:03:27.965361Z"
    }
   },
   "outputs": [
    {
     "name": "stdout",
     "output_type": "stream",
     "text": [
      "Overwriting src/namelist_read_01.f95\n"
     ]
    }
   ],
   "source": [
    "%%writefile src/namelist_read_01.f95\n",
    "program test_read_namelist\n",
    "  implicit none\n",
    "  integer :: a(10)\n",
    "  namelist /lista/ a\n",
    "  a = 0\n",
    "  open(unit=10, file='src/lista-de-entrada.txt')\n",
    "  read(10, nml = lista)\n",
    "  write(*,*) a\n",
    "end program test_read_namelist"
   ]
  },
  {
   "cell_type": "code",
   "execution_count": 55,
   "metadata": {
    "ExecuteTime": {
     "end_time": "2019-01-24T11:03:31.196164Z",
     "start_time": "2019-01-24T11:03:31.025533Z"
    }
   },
   "outputs": [],
   "source": [
    "# A seguir vamos compilar o programa\n",
    "!f95 -std=f2008 -Wall -Waliasing -pedantic -Wsurprising -Wunderflow  -o x src/namelist_read_01.f95"
   ]
  },
  {
   "cell_type": "code",
   "execution_count": 56,
   "metadata": {
    "ExecuteTime": {
     "end_time": "2019-01-24T11:03:32.354953Z",
     "start_time": "2019-01-24T11:03:32.242345Z"
    }
   },
   "outputs": [
    {
     "name": "stdout",
     "output_type": "stream",
     "text": [
      "           0           1           2           3           4           5           6           7           8           9\r\n"
     ]
    }
   ],
   "source": [
    "# Rodando o programa\n",
    "! ./x"
   ]
  },
  {
   "cell_type": "code",
   "execution_count": 57,
   "metadata": {
    "ExecuteTime": {
     "end_time": "2019-01-24T11:04:36.346381Z",
     "start_time": "2019-01-24T11:04:36.337588Z"
    }
   },
   "outputs": [
    {
     "name": "stdout",
     "output_type": "stream",
     "text": [
      "Writing src/lista-de-entrada2.txt\n"
     ]
    }
   ],
   "source": [
    "%%writefile src/lista-de-entrada2.txt\n",
    "&LISTA\n",
    "m = 1, 2, 3, 4, 5, 6, 7, 8, 9, \n",
    "/"
   ]
  },
  {
   "cell_type": "code",
   "execution_count": 58,
   "metadata": {
    "ExecuteTime": {
     "end_time": "2019-01-24T11:05:12.455292Z",
     "start_time": "2019-01-24T11:05:12.450050Z"
    }
   },
   "outputs": [
    {
     "name": "stdout",
     "output_type": "stream",
     "text": [
      "Writing src/namelist_read_02.f95\n"
     ]
    }
   ],
   "source": [
    "%%writefile src/namelist_read_02.f95\n",
    "program test_read_namelist\n",
    "  implicit none\n",
    "  integer :: m(3,3)\n",
    "  namelist /lista/ m\n",
    "  m = 0\n",
    "  open(unit=10, file='src/lista-de-entrada2.txt')\n",
    "  read(10, nml = lista)\n",
    "  write(*,*) m\n",
    "end program test_read_namelist"
   ]
  },
  {
   "cell_type": "code",
   "execution_count": 59,
   "metadata": {
    "ExecuteTime": {
     "end_time": "2019-01-24T11:05:22.442229Z",
     "start_time": "2019-01-24T11:05:22.267937Z"
    }
   },
   "outputs": [],
   "source": [
    "# A seguir vamos compilar o programa\n",
    "!f95 -std=f2008 -Wall -Waliasing -pedantic -Wsurprising -Wunderflow  -o x src/namelist_read_01.f95"
   ]
  },
  {
   "cell_type": "code",
   "execution_count": 72,
   "metadata": {
    "ExecuteTime": {
     "end_time": "2019-01-24T11:32:26.254104Z",
     "start_time": "2019-01-24T11:32:26.141909Z"
    }
   },
   "outputs": [
    {
     "name": "stdout",
     "output_type": "stream",
     "text": [
      "&ROUPAS\r\n",
      " TAMANHO=         42,\r\n",
      " FL=  34.7000008    ,\r\n",
      " COR=\"Azul    \",\"Verde   \",\"Vermelho\",\r\n",
      " /\r\n"
     ]
    }
   ],
   "source": [
    "# Rodando o programa\n",
    "! ./x"
   ]
  },
  {
   "cell_type": "code",
   "execution_count": 74,
   "metadata": {
    "ExecuteTime": {
     "end_time": "2019-01-24T11:42:21.241108Z",
     "start_time": "2019-01-24T11:42:21.235703Z"
    }
   },
   "outputs": [
    {
     "name": "stdout",
     "output_type": "stream",
     "text": [
      "Writing src/lista-mista.txt\n"
     ]
    }
   ],
   "source": [
    "%%writefile  src/lista-mista.txt\n",
    "&INT_NAMELIST\n",
    "  n = 5,\n",
    "  m = 2\n",
    "/\n",
    "&REAL_NAMELIST\n",
    "  x = 3.15,\n",
    "  Y = 2.71\n",
    "/"
   ]
  },
  {
   "cell_type": "code",
   "execution_count": 83,
   "metadata": {
    "ExecuteTime": {
     "end_time": "2019-01-24T11:43:50.174750Z",
     "start_time": "2019-01-24T11:43:50.169172Z"
    }
   },
   "outputs": [
    {
     "name": "stdout",
     "output_type": "stream",
     "text": [
      "Overwriting src/namelist_read_03.f95\n"
     ]
    }
   ],
   "source": [
    "%%writefile src/namelist_read_03.f95\n",
    "PROGRAM test_read_namelist\n",
    "    IMPLICIT NONE\n",
    "    INTEGER :: n, m\n",
    "    REAL :: x, y\n",
    "    NAMELIST /INT_NAMELIST/ n, m\n",
    "    NAMELIST /REAL_NAMELIST/ x, y\n",
    "    OPEN(unit=10, FILE='src/lista-mista.txt',action=\"READ\", status=\"OLD\")\n",
    "    READ(10, nml=INT_NAMELIST)\n",
    "    READ(10, nml=REAL_NAMELIST)\n",
    "    CLOSE(UNIT=10)\n",
    "    WRITE(*,nml=INT_NAMELIST)\n",
    "    WRITE(*,nml=REAL_NAMELIST)\n",
    "END PROGRAM test_read_namelist"
   ]
  },
  {
   "cell_type": "code",
   "execution_count": 84,
   "metadata": {
    "ExecuteTime": {
     "end_time": "2019-01-24T11:44:02.053192Z",
     "start_time": "2019-01-24T11:44:01.873309Z"
    }
   },
   "outputs": [],
   "source": [
    "# A seguir vamos compilar o programa\n",
    "!f95 -std=f2008 -Wall -Waliasing -pedantic -Wsurprising -Wunderflow  -o x src/namelist_read_03.f95"
   ]
  },
  {
   "cell_type": "code",
   "execution_count": 86,
   "metadata": {
    "ExecuteTime": {
     "end_time": "2019-01-24T11:45:06.136654Z",
     "start_time": "2019-01-24T11:45:06.024990Z"
    }
   },
   "outputs": [
    {
     "name": "stdout",
     "output_type": "stream",
     "text": [
      "&INT_NAMELIST\r\n",
      " N=          5,\r\n",
      " M=          2,\r\n",
      " /\r\n",
      "&REAL_NAMELIST\r\n",
      " X=  3.15000010    ,\r\n",
      " Y=  2.71000004    ,\r\n",
      " /\r\n"
     ]
    }
   ],
   "source": [
    "# Rodando o programa\n",
    "! ./x"
   ]
  },
  {
   "cell_type": "code",
   "execution_count": 93,
   "metadata": {
    "ExecuteTime": {
     "end_time": "2019-01-24T11:47:40.482275Z",
     "start_time": "2019-01-24T11:47:40.476732Z"
    }
   },
   "outputs": [
    {
     "name": "stdout",
     "output_type": "stream",
     "text": [
      "Overwriting src/namelist_read_04.f95\n"
     ]
    }
   ],
   "source": [
    "%%writefile src/namelist_read_04.f95\n",
    "PROGRAM test_read_namelist\n",
    "    IMPLICIT NONE\n",
    "    INTEGER :: n, m\n",
    "    REAL :: x, y\n",
    "    NAMELIST /INT_NAMELIST/ n, m\n",
    "    NAMELIST /REAL_NAMELIST/ x, y\n",
    "    OPEN(unit=10, FILE='src/lista-mista.txt',action=\"READ\", status=\"OLD\")\n",
    "    ! no caso em que não se sabe a ordem da lista\n",
    "    ! leia uma lista\n",
    "    READ(10, nml=REAL_NAMELIST)\n",
    "    REWIND(10) ! volte para o topo da lista\n",
    "    READ(10, nml=INT_NAMELIST)\n",
    "    CLOSE(UNIT=10)\n",
    "    WRITE(*,nml=INT_NAMELIST)\n",
    "    WRITE(*,nml=REAL_NAMELIST)\n",
    "END PROGRAM test_read_namelist"
   ]
  },
  {
   "cell_type": "code",
   "execution_count": 94,
   "metadata": {
    "ExecuteTime": {
     "end_time": "2019-01-24T11:47:41.617191Z",
     "start_time": "2019-01-24T11:47:41.444334Z"
    }
   },
   "outputs": [],
   "source": [
    "# A seguir vamos compilar o programa\n",
    "!f95 -std=f2008 -Wall -Waliasing -pedantic -Wsurprising -Wunderflow  -o x src/namelist_read_04.f95"
   ]
  },
  {
   "cell_type": "code",
   "execution_count": 96,
   "metadata": {
    "ExecuteTime": {
     "end_time": "2019-01-24T11:53:10.596458Z",
     "start_time": "2019-01-24T11:53:10.483887Z"
    }
   },
   "outputs": [
    {
     "name": "stdout",
     "output_type": "stream",
     "text": [
      "&INT_NAMELIST\r\n",
      " N=          5,\r\n",
      " M=          2,\r\n",
      " /\r\n",
      "&REAL_NAMELIST\r\n",
      " X=  3.15000010    ,\r\n",
      " Y=  2.71000004    ,\r\n",
      " /\r\n"
     ]
    }
   ],
   "source": [
    "# Rodando o programa\n",
    "! ./x"
   ]
  },
  {
   "cell_type": "code",
   "execution_count": 113,
   "metadata": {
    "ExecuteTime": {
     "end_time": "2019-01-24T12:02:39.494316Z",
     "start_time": "2019-01-24T12:02:39.487816Z"
    }
   },
   "outputs": [
    {
     "name": "stdout",
     "output_type": "stream",
     "text": [
      "Overwriting src/lista-caracter.txt\n"
     ]
    }
   ],
   "source": [
    "%%writefile src/lista-caracter.txt\n",
    "&list\n",
    "string = \"abcdefghijkl\"\n",
    "/"
   ]
  },
  {
   "cell_type": "code",
   "execution_count": 1,
   "metadata": {
    "ExecuteTime": {
     "end_time": "2019-02-08T15:42:46.254759Z",
     "start_time": "2019-02-08T15:42:46.223863Z"
    }
   },
   "outputs": [
    {
     "name": "stdout",
     "output_type": "stream",
     "text": [
      "Overwriting src/namelist_read_bug_01.f95\n"
     ]
    }
   ],
   "source": [
    "%%writefile src/namelist_read_bug_01.f95\n",
    "PROGRAM bug_namelist\n",
    "  IMPLICIT NONE\n",
    "\n",
    "  CHARACTER(:), ALLOCATABLE :: string\n",
    "  INTEGER :: file_unit=10\n",
    "\n",
    "  NAMELIST /list/ string\n",
    "\n",
    "  OPEN(newunit=file_unit,file='src/lista-caracter.txt')\n",
    "\n",
    "  READ(unit=file_unit,nml=list)\n",
    "  WRITE(*,*) string\n",
    "\n",
    "  CLOSE(file_unit)\n",
    "\n",
    "END PROGRAM bug_namelist"
   ]
  },
  {
   "cell_type": "code",
   "execution_count": 2,
   "metadata": {
    "ExecuteTime": {
     "end_time": "2019-02-08T15:42:54.411830Z",
     "start_time": "2019-02-08T15:42:54.238725Z"
    }
   },
   "outputs": [
    {
     "name": "stdout",
     "output_type": "stream",
     "text": [
      "\u001b[01m\u001b[Ksrc/namelist_read_bug_01.f95:11:0:\u001b[m\u001b[K\r\n",
      "\r\n",
      "   READ(unit=file_unit,nml=list)\r\n",
      " \r\n",
      "\u001b[01;35m\u001b[KWarning:\u001b[m\u001b[K ‘\u001b[01m\u001b[K.string\u001b[m\u001b[K’ is used uninitialized in this function [\u001b[01;35m\u001b[K-Wuninitialized\u001b[m\u001b[K]\r\n"
     ]
    }
   ],
   "source": [
    "# A seguir vamos compilar o programa\n",
    "!f95 -std=f2008 -Wall -Waliasing -pedantic -Wsurprising -Wunderflow  -o x src/namelist_read_bug_01.f95"
   ]
  },
  {
   "cell_type": "code",
   "execution_count": 3,
   "metadata": {
    "ExecuteTime": {
     "end_time": "2019-02-08T15:43:47.883457Z",
     "start_time": "2019-02-08T15:43:47.870602Z"
    }
   },
   "outputs": [
    {
     "name": "stdout",
     "output_type": "stream",
     "text": [
      "Overwriting src/namelist_read_bug_02.f95\n"
     ]
    }
   ],
   "source": [
    "%%writefile src/namelist_read_bug_02.f95\n",
    "PROGRAM bug_namelist\n",
    "  IMPLICIT NONE\n",
    "\n",
    "  CHARACTER(:), ALLOCATABLE :: string\n",
    "  INTEGER :: file_unit=10\n",
    "\n",
    "  NAMELIST /list/ string\n",
    "\n",
    "  ALLOCATE(CHARACTER(len=15) :: string)\n",
    "\n",
    "  OPEN(newunit=file_unit,file='src/lista-caracter.txt')\n",
    "\n",
    "  READ(unit=file_unit,nml=list)\n",
    "  WRITE(*,*) string\n",
    "\n",
    "  CLOSE(file_unit)\n",
    "\n",
    "END PROGRAM bug_namelist"
   ]
  },
  {
   "cell_type": "code",
   "execution_count": 4,
   "metadata": {
    "ExecuteTime": {
     "end_time": "2019-02-08T15:43:49.353809Z",
     "start_time": "2019-02-08T15:43:49.181372Z"
    }
   },
   "outputs": [],
   "source": [
    "# A seguir vamos compilar o programa\n",
    "!f95 -std=f2008 -Wall -Waliasing -pedantic -Wsurprising -Wunderflow  -o x src/namelist_read_bug_02.f95"
   ]
  },
  {
   "cell_type": "code",
   "execution_count": 5,
   "metadata": {
    "ExecuteTime": {
     "end_time": "2019-02-08T15:43:50.268057Z",
     "start_time": "2019-02-08T15:43:50.113875Z"
    }
   },
   "outputs": [
    {
     "name": "stdout",
     "output_type": "stream",
     "text": [
      " abcdefghijkl   \r\n"
     ]
    }
   ],
   "source": [
    "# Rodando o programa\n",
    "! ./x"
   ]
  },
  {
   "cell_type": "code",
   "execution_count": 120,
   "metadata": {
    "ExecuteTime": {
     "end_time": "2019-01-24T12:04:06.242332Z",
     "start_time": "2019-01-24T12:04:06.236569Z"
    }
   },
   "outputs": [
    {
     "name": "stdout",
     "output_type": "stream",
     "text": [
      "Writing src/lista-caracter-variavel.txt\n"
     ]
    }
   ],
   "source": [
    "%%writefile src/lista-caracter-variavel.txt\n",
    "&ttdata\n",
    "  inputlen=20,\n",
    "  input='123456789012345'/"
   ]
  },
  {
   "cell_type": "code",
   "execution_count": 6,
   "metadata": {
    "ExecuteTime": {
     "end_time": "2019-02-08T15:45:52.935603Z",
     "start_time": "2019-02-08T15:45:52.903734Z"
    }
   },
   "outputs": [
    {
     "name": "stdout",
     "output_type": "stream",
     "text": [
      "Overwriting src/namelist_read_caracter_dinamico.f95\n"
     ]
    }
   ],
   "source": [
    "%%writefile src/namelist_read_caracter_dinamico.f95\n",
    "PROGRAM read_name_list\n",
    "  IMPLICIT NONE\n",
    "  INTEGER :: inputlen\n",
    "  CHARACTER(len=:), ALLOCATABLE :: input\n",
    "  CHARACTER(len=50) :: arq='src/lista-caracter-variavel.txt'\n",
    "  NAMELIST /ttdata/ input, inputlen\n",
    "\n",
    "  ALLOCATE(CHARACTER(len=10) :: input)\n",
    "  input(:)=' '\n",
    "  PRINT *,'1.input=\"',input,'\"'\n",
    "\n",
    "  OPEN ( unit=10,STATUS='OLD',file=arq)\n",
    "  READ(10,nml=ttdata)\n",
    "  PRINT *,'2.input=\"',input,'\"'\n",
    "  IF (inputlen > 10) THEN\n",
    "     CLOSE(10)\n",
    "     DEALLOCATE(input)\n",
    "\n",
    "     ALLOCATE(CHARACTER(len=inputlen) :: input)\n",
    "     input(:)=' '\n",
    "     PRINT *,'3.input=\"',input,'\"'\n",
    "     OPEN ( unit=10,STATUS='OLD',file=arq)\n",
    "  ENDIF\n",
    "  READ(10,nml=ttdata)\n",
    "  PRINT *,'4.input=\"',input,'\"'\n",
    "  CLOSE(10)\n",
    "\n",
    "END PROGRAM read_name_list"
   ]
  },
  {
   "cell_type": "code",
   "execution_count": 7,
   "metadata": {
    "ExecuteTime": {
     "end_time": "2019-02-08T15:45:54.118792Z",
     "start_time": "2019-02-08T15:45:53.926272Z"
    }
   },
   "outputs": [],
   "source": [
    "# A seguir vamos compilar o programa\n",
    "!f95 -std=f2008 -Wall -Waliasing -pedantic -Wsurprising -Wunderflow  -o x src/namelist_read_caracter_dinamico.f95"
   ]
  },
  {
   "cell_type": "code",
   "execution_count": 8,
   "metadata": {
    "ExecuteTime": {
     "end_time": "2019-02-08T15:45:55.268123Z",
     "start_time": "2019-02-08T15:45:55.140626Z"
    }
   },
   "outputs": [
    {
     "name": "stdout",
     "output_type": "stream",
     "text": [
      " 1.input=\"          \"\r\n",
      " 2.input=\"1234567890\"\r\n",
      " 3.input=\"                    \"\r\n",
      " 4.input=\"123456789012345     \"\r\n"
     ]
    }
   ],
   "source": [
    "# Rodando o programa\n",
    "! ./x"
   ]
  },
  {
   "cell_type": "markdown",
   "metadata": {},
   "source": [
    "## Conversão de tipos\n",
    "\n",
    "Não existe nenhum valor intrínseco para converter entre um valor numérico e uma representação de cadeia de caracteres formatada - por exemplo, dado o valor `CHARACTER` '154', obtendo um valor `INTEGER` ou `REAL` com o valor 154 ou vice-versa. Em vez disso, essa funcionalidade é fornecida por E/S de arquivo interno, como no exemplo a seguir:\n",
    "```Fortran\n",
    "PROGRAM read_val\n",
    "  IMPLICIT NONE\n",
    "  INTEGER :: numero\n",
    "  REAL    :: x\n",
    "  CHARACTER(len=10) string1, string2\n",
    "  string1 = '154'\n",
    "\n",
    "  ! Converte uma string em um valor numérico\n",
    "  READ (string1,'(I3)') numero\n",
    "  PRINT *, numero\n",
    "\n",
    "  ! Converte um valor numérico em uma string formatada\n",
    "  ! preenchida com zeros a direita\n",
    "  WRITE (string2,'(I10.10)') numero\n",
    "  PRINT *, string2\n",
    "  STOP\n",
    "END PROGRAM read_val\n",
    "```"
   ]
  },
  {
   "cell_type": "code",
   "execution_count": 4,
   "metadata": {},
   "outputs": [
    {
     "name": "stdout",
     "output_type": "stream",
     "text": [
      "Overwriting src/Teste_ConversaoInterna.f95\n"
     ]
    }
   ],
   "source": [
    "%%writefile src/Teste_ConversaoInterna.f95\n",
    "PROGRAM read_val\n",
    "  IMPLICIT NONE\n",
    "  INTEGER :: numero\n",
    "  REAL    :: x=2.0\n",
    "  CHARACTER(len=10) string1, string2\n",
    "  string1 = '154'\n",
    "\n",
    "  ! Converte uma string em um valor numérico\n",
    "  READ (string1,'(I3)') numero\n",
    "  PRINT *, numero\n",
    "\n",
    "  ! Converte um valor numérico em uma string formatada\n",
    "  ! preenchida com zeros a direita\n",
    "  WRITE (string2,'(I10.10)') numero\n",
    "  PRINT *, string2\n",
    "  STOP\n",
    "END PROGRAM read_val"
   ]
  },
  {
   "cell_type": "code",
   "execution_count": 5,
   "metadata": {},
   "outputs": [
    {
     "name": "stdout",
     "output_type": "stream",
     "text": [
      "\u001b[01m\u001b[KFortran/Teste_ConversaoInterna.f95:4:14:\u001b[m\u001b[K\r\n",
      "\r\n",
      "   REAL    :: x=2.0\r\n",
      "\u001b[01;32m\u001b[K              1\u001b[m\u001b[K\r\n",
      "\u001b[01;35m\u001b[KWarning:\u001b[m\u001b[K Unused variable ‘\u001b[01m\u001b[Kx\u001b[m\u001b[K’ declared at (1) [-Wunused-variable]\r\n"
     ]
    }
   ],
   "source": [
    "# A seguir vamos compilar o programa\n",
    "!f95 -std=f2008 -Wall -Waliasing -pedantic -Wsurprising -Wunderflow -o x src/Teste_ConversaoInterna.f95"
   ]
  },
  {
   "cell_type": "code",
   "execution_count": 6,
   "metadata": {},
   "outputs": [
    {
     "name": "stdout",
     "output_type": "stream",
     "text": [
      "         154\r\n",
      " 0000000154\r\n"
     ]
    }
   ],
   "source": [
    "# A seguir vamos rodar o programa. O executável gerado é o x\n",
    "!./x"
   ]
  },
  {
   "cell_type": "markdown",
   "metadata": {},
   "source": [
    "## Novos Editores para Descrição\n",
    "\n",
    "- EN - (Engenharia) O mesmo que o E mas com o expoente divisível por 3, e o valor antes do ponto decimal está entre 1 e 1000\n",
    "- ES - (Científico) O mesmo que o E mas o valor antes do ponto decimal está entre 1 e 10\n",
    "- B - Binário\n",
    "- O - Octal\n",
    "- Z - Hexadecimal\n",
    "- G - Editor de descrição generalizado, agora aplicável a todos os tipos intrínsecos.\n",
    "\n",
    "No exemplo a seguir mostra-se a diferença entre os editores de descrição E, EN, ES e G:\n",
    "\n",
    "```Fortran\n",
    "PROGRAM comparando_e_en_es_g\n",
    "IMPLICIT NONE\n",
    "REAL, DIMENSION(4) ::  x=(/1.234, -0.5, 0.00678, 98765.4/)\n",
    "PRINT '(4E14.3/4EN14.3/4ES14.3/4G14.3)', x, x, x, x\n",
    "END PROGRAM comparando_e_en_es_g\n",
    "```"
   ]
  },
  {
   "cell_type": "code",
   "execution_count": 7,
   "metadata": {},
   "outputs": [
    {
     "name": "stdout",
     "output_type": "stream",
     "text": [
      "Writing src/Teste_Compara_E_EN_ES_G.f95\n"
     ]
    }
   ],
   "source": [
    "%%writefile src/Teste_Compara_E_EN_ES_G.f95\n",
    "PROGRAM comparando_e_en_es_g\n",
    "IMPLICIT NONE\n",
    "REAL, DIMENSION(4) ::  x=(/1.234, -0.5, 0.00678, 98765.4/)\n",
    "PRINT '(4E14.3/4EN14.3/4ES14.3/4G14.3)', x, x, x, x\n",
    "END PROGRAM comparando_e_en_es_g"
   ]
  },
  {
   "cell_type": "code",
   "execution_count": 8,
   "metadata": {},
   "outputs": [],
   "source": [
    "# A seguir vamos compilar o programa\n",
    "!f95 -std=f2008 -Wall -Waliasing -pedantic -Wsurprising -Wunderflow -o x src/Teste_Compara_E_EN_ES_G.f95"
   ]
  },
  {
   "cell_type": "code",
   "execution_count": 9,
   "metadata": {},
   "outputs": [
    {
     "name": "stdout",
     "output_type": "stream",
     "text": [
      "     0.123E+01    -0.500E+00     0.678E-02     0.988E+05\r\n",
      "     1.234E+00  -500.000E-03     6.780E-03    98.765E+03\r\n",
      "     1.234E+00    -5.000E-01     6.780E-03     9.877E+04\r\n",
      "      1.23        -0.500         0.678E-02     0.988E+05\r\n"
     ]
    }
   ],
   "source": [
    "# A seguir vamos rodar o programa. O executável gerado é o x\n",
    "!./x"
   ]
  },
  {
   "cell_type": "markdown",
   "metadata": {},
   "source": [
    "## Novos Especificadores de declaração\n",
    "\n",
    "- <span style=\"color:red\">INQUIRE</span>\n",
    "\n",
    "| Ação       | = | Opção                        |\n",
    "|:-----------|:- |:-----------------------------|\n",
    "| POSITION   | = | 'ASIS' 'REWIND' 'APPEND'     |\n",
    "| ACTION     | = | 'READ' 'WRITE' 'READWRITE'   |\n",
    "| DELIM      | = | 'APOSTROPHE' 'QUOTE' 'NONE'  |\n",
    "| PAD        | = | 'YES' 'NO'                   |\n",
    "| READWRITE  | = |  )                           |\n",
    "| READ       | = | ) 'YES' 'NO' 'UNKNOWN'       |\n",
    "| WRITE      | = | )                            |\n",
    "\n",
    "\n",
    "- <span style=\"color:red\">OPEN</span>\n",
    "\n",
    "| Ação       | = | Opção                        |\n",
    "|:-----------|:- |:-----------------------------|\n",
    "| POSITION   | = | 'ASIS' 'REWIND' 'APPEND'     |\n",
    "| ACTION     | = | 'READ' 'WRITE' 'READWRITE'   |\n",
    "| DELIM      | = | 'APOSTROPHE' 'QUOTE' 'NONE'  |\n",
    "| PAD        | = | 'YES' 'NO'                   |\n",
    "| STATUS     | = | 'REPLACE'                    |\n",
    "\n",
    "- <span style=\"color:red\">READ/WRITE</span>\n",
    "\n",
    "```Fortran\n",
    "NML = nome_da_lista\n",
    "ADVANCE = 'YES' 'NO'\n",
    "```\n",
    "\n",
    "- <span style=\"color:red\">READ</span>\n",
    "\n",
    "```Fortran\n",
    "EOR = label SIZE = character_count\n",
    "```\n",
    "\n",
    "### Tabela dos descritores\n",
    "\n",
    "| Descritor |  Descrição                                                                           |\n",
    "|:----------|:-------------------------------------------------------------------------------------|\n",
    "| BN        | Ignora os caracteres em branco no inicio de um campo numérico                        |\n",
    "| BZ        | Trata  os caracteres em branco no inicio de um campo numérico como zeros             |\n",
    "| S         | Imprime opcionalmente o sinal mais dependendo do processador                         |\n",
    "| SP        | Imprime o sinal de mais                                                              |\n",
    "| SS        | Não imprime opcionalmente o sinal de mais                                            |\n",
    "| T         | Tabulação para uma posição especificada                                              |\n",
    "| TL        | Tabulação para esquerda para um número de posições especificadas                     |\n",
    "| TR        | Tabulação para direita para um número de posições especificadas                      |\n",
    "| X         | Tabulação para direita num número de posições especificadas                          |\n",
    "| /         | Termina o registro corrente e move-se para o início do próximo registro              |\n",
    "| :         | Para de processar o formato quando não há mais uma lista com itens de entrada/saída. |\n",
    "| P         | Interpreta certo número real com um fator de escala específico.                      | \n",
    "| A         | Converte dados do tipo caractere                                                     |\n",
    "| B         | Converte dados do tipo inteiro de/para uma base binaria                              |\n",
    "| D         | Converte dados do tipo real? Como o E editor de descrição                            |\n",
    "| E         | Converte dados do tipo real com um expoente                                          |\n",
    "| EN        | Converte dados do tipo real para notação de engenharia                               |\n",
    "| ES        | Converte dados do tipo real para notação científica                                  |\n",
    "| F         | Converte dados do tipo real sem expoentes na saída                                   |\n",
    "| G         | Converte dados de todos os tipos intrínsecos                                         |\n",
    "| I         | Converte dados do tipo inteiro                                                       |\n",
    "| L         | Converte dados do tipo logical                                                       |\n",
    "| O         | Converte dados do tipo inteiro de/para uma base octal                                |\n",
    "| Z         | Converte dados do tipo inteiro de/para uma base hexadecimal                          | \n"
   ]
  },
  {
   "cell_type": "markdown",
   "metadata": {},
   "source": [
    "### Conversão interna de tipos\n",
    "\n",
    "Considere io seguinte exemplo \n",
    "\n",
    "```Fortran\n",
    "INTEGER :: i, j, n      ! Variaveis inteiras\n",
    "REAL    :: a, b, c, d   ! Variaveis reais\n",
    "CHARACTER (LEN=8) :: nome\n",
    "CHARACTER (LEN=85):: fmt0, fmt1, fmt2\n",
    "...\n",
    "! Converte o REAL A no CHARACTER NOME\n",
    "WRITE(nome,'(F8.4)') a\n",
    "! Converte o INTEGER I no CHARACTER NOME\n",
    "WRITE(nome,'(I4)') I\n",
    "! Saida formatada sem FORMAT explicito\n",
    "WRITE(*,'(1X,f10.4,3x,3(G14.7,3X))') a, b, c, d\n",
    "!Formato variavel\n",
    "WRITE(fmt0,'(A12,I1,A11)')\"(1X,F9.4,3X,\",n,\"(G14.7,2x))\"\n",
    "...\n",
    "WRITE(21,fmt0) x(j),( psio(i), i = 1, n )\n",
    "```"
   ]
  },
  {
   "cell_type": "markdown",
   "metadata": {},
   "source": [
    "### Determinando o número de linhas de um arquivo\n",
    "\n",
    "O exemplo a seguir abre um arquivo e conta quantas linhas ele possui:\n",
    "\n",
    "```Fortran\n",
    "LOGICAL  :: exists, flag\n",
    "INTEGER  :: erro, i, linha\n",
    "CHARACTER (LEN=200) :: aux\n",
    "...\n",
    "INQUIRE(FILE='Dados.dat', EXIST = exists) !Verifica se o arquivo existe\n",
    "IF (.NOT. exists) THEN\n",
    "   WRITE (*,'(2A/)') ' >> O arquivo nao existe'\n",
    "   STOP              ! Termina o programa\n",
    "END IF\n",
    "OPEN (UNIT=15, FILE ='Dados.dat',STATUS ='OLD', FORM='FORMATTED' )\n",
    "!==================================================================\n",
    "!  Determinaremos o numero de linhas do arquivo\n",
    "!------------------------------------------------------------------\n",
    "!  ERR0 > 0 ==> Ocorreu um erro na leitura\n",
    "!  ERR0 = 0 ==> Nao ocorreu nenhum tipo de erro\n",
    "!  ERR0 < 0 ==> Foi encontrado o fim do arquivo\n",
    "!==================================================================\n",
    "linha = 0\n",
    "LER: DO\n",
    "   READ(15, *, IOSTAT = erro, ERR = 10, END=20) aux\n",
    "10 IF ( erro > 0 ) THEN\n",
    "    WRITE(*,*)  'Ocorreu um erro na leitura do arquivo'\n",
    "    PRINT '(2A/)', 'Foi na leitura do arquivo: ', 'Dados.dat'\n",
    "    WRITE(*,*)  'O erro foi o de numero ', erro\n",
    "    STOP  ! Termina o programa\n",
    "   ELSE IF ( erro == 0) THEN\n",
    "    linha = linha + 1\n",
    "    CYCLE LER  ! Volta ao inicio do loop \"ler\"\n",
    "   ELSE IF ( erro < 0 ) THEN\n",
    "    EXIT LER   ! Sai do loop \"ler\"\n",
    "   ENDIF\n",
    "20 WRITE(*,*) 'O numero de linhas ', linha\n",
    "   EXIT LER   ! Sai do loop \"ler\"\n",
    "END DO LER\n",
    "REWIND(15) ! reposiciona p/ o inicio do arquivo\n",
    "```\n",
    "\n",
    "Esse é um caso muito interessante, pois ele permite a leitura de arquivos de dados quando não sambemos quantas linhas ele possui. Esse caso é muito útil com alocação dinâmica de memória."
   ]
  },
  {
   "cell_type": "code",
   "execution_count": 3,
   "metadata": {
    "ExecuteTime": {
     "end_time": "2019-04-10T19:26:38.804515Z",
     "start_time": "2019-04-10T19:26:38.788879Z"
    }
   },
   "outputs": [
    {
     "name": "stdout",
     "output_type": "stream",
     "text": [
      "Overwriting src/leitura_tamanho_indefinido.f95\n"
     ]
    }
   ],
   "source": [
    "%%writefile src/leitura_tamanho_indefinido.f95\n",
    "PROGRAM leitura\n",
    "   IMPLICIT NONE\n",
    "   REAL, DIMENSION(:,:), ALLOCATABLE :: MatA, MatB\n",
    "   REAL :: x\n",
    "   LOGICAL  :: exists\n",
    "   INTEGER  :: erro, i, linha, n\n",
    "   CHARACTER (LEN=80) :: Nome, aux\n",
    "   Nome = TRIM(\"Dados_Aleatorios.dat\")\n",
    "   CALL random_NUMBER(x)\n",
    "   n= NINT(1000*x)\n",
    "   ALLOCATE (MatA(n,2), STAT=erro)\n",
    "   IF(erro /= 0) THEN\n",
    "      PRINT *, 'Error in allocating space'\n",
    "      STOP\n",
    "   END IF\n",
    "   CALL random_NUMBER(MatA)\n",
    "   MatA= NINT(1000*MatA)/10.0\n",
    "   OPEN(UNIT=10, FILE=Nome, FORM ='FORMATTED', Status='UNKNOWN')\n",
    "   DO i = 1,n\n",
    "      WRITE(10,*) MatA(i,1), MatA(i,2)\n",
    "   END DO\n",
    "   CLOSE(unit=10, Status='keep')\n",
    "   ! Aqui vamos iniciar a leitura do arquivo\n",
    "   INQUIRE(FILE=Nome, EXIST = exists) ! Verifica se o arquivo existe\n",
    "   IF (.NOT. exists) THEN\n",
    "      WRITE (*,'(2A/)') ' >> O arquivo nao existe'\n",
    "      STOP              ! Termina o programa\n",
    "   END IF\n",
    "   OPEN (UNIT=15, FILE =Nome,STATUS ='OLD', FORM='FORMATTED' )\n",
    "   !==================================================================\n",
    "   !  Determinaremos o numero de linhas do arquivo\n",
    "   !------------------------------------------------------------------\n",
    "   !  ERR0 > 0 ==> Ocorreu um erro na leitura\n",
    "   !  ERR0 = 0 ==> Nao ocorreu nenhum tipo de erro\n",
    "   !  ERR0 < 0 ==> Foi encontrado o fim do arquivo\n",
    "   !==================================================================\n",
    "   linha = 0\n",
    "   LER: DO\n",
    "      READ(15, *, IOSTAT = erro, ERR = 10, END=20) aux\n",
    "10    IF ( erro > 0 ) THEN\n",
    "         WRITE(*,*)  'Ocorreu um erro na leitura do arquivo'\n",
    "         PRINT '(2A/)', 'Foi na leitura do arquivo: ', 'Dados.dat'\n",
    "         WRITE(*,*)  'O erro foi o de numero ', erro\n",
    "         STOP  ! Termina o programa\n",
    "      ELSE IF ( erro == 0) THEN\n",
    "         linha = linha + 1\n",
    "         CYCLE LER  ! Volta ao inicio do loop \"ler\"\n",
    "      ELSE IF ( erro < 0 ) THEN\n",
    "         EXIT LER   ! Sai do loop \"ler\"\n",
    "      ENDIF\n",
    "20    WRITE(*,*) 'O numero de linhas ', linha\n",
    "      EXIT LER   ! Sai do loop \"ler\"\n",
    "   END DO LER\n",
    "   REWIND(15) ! reposiciona p/ o inicio do arquivo\n",
    "   ALLOCATE (MatB(linha,2), STAT=erro)\n",
    "   IF(erro /= 0) THEN\n",
    "      PRINT *, 'Error in allocating space'\n",
    "      STOP\n",
    "   END IF\n",
    "   DO i = 1,linha\n",
    "      READ(15,*) MatB(i,1), MatB(i,2)\n",
    "      WRITE(*,*) MatA(i,1), MatB(i,1),' == ', MatA(i,2), MatB(i,2)\n",
    "   END DO\n",
    "   CLOSE(unit=15, Status='keep')\n",
    "   x =  MAXVAL(ABS(MatA-MatB))\n",
    "   PRINT *, 'n = ',n, 'linha = ', linha\n",
    "   PRINT *, \"A Maior diferença foi: \", x\n",
    "END PROGRAM leitura"
   ]
  },
  {
   "cell_type": "code",
   "execution_count": 4,
   "metadata": {
    "ExecuteTime": {
     "end_time": "2019-04-10T19:26:41.968295Z",
     "start_time": "2019-04-10T19:26:40.714356Z"
    }
   },
   "outputs": [],
   "source": [
    "# Compilando o código\n",
    "! f95 -Wall -std=f2008 -o x src/leitura_tamanho_indefinido.f95"
   ]
  },
  {
   "cell_type": "code",
   "execution_count": 5,
   "metadata": {
    "ExecuteTime": {
     "end_time": "2019-04-10T19:26:42.192021Z",
     "start_time": "2019-04-10T19:26:41.978717Z"
    }
   },
   "outputs": [
    {
     "name": "stdout",
     "output_type": "stream",
     "text": [
      " O numero de linhas            2\r\n",
      "   38.2999992       38.2999992      ==    39.7000008       39.7000008    \r\n",
      "   60.2999992       60.2999992      ==    71.9000015       71.9000015    \r\n",
      " n =            2 linha =            2\r\n",
      " A Maior diferença foi:    0.00000000    \r\n"
     ]
    }
   ],
   "source": [
    "# Rodando o código\n",
    "! ./x"
   ]
  },
  {
   "cell_type": "code",
   "execution_count": 13,
   "metadata": {
    "ExecuteTime": {
     "end_time": "2019-04-10T19:33:15.539851Z",
     "start_time": "2019-04-10T19:33:15.535405Z"
    }
   },
   "outputs": [
    {
     "name": "stdout",
     "output_type": "stream",
     "text": [
      "Overwriting src/leitura_e_adicao.f95\n"
     ]
    }
   ],
   "source": [
    "%%writefile src/leitura_e_adicao.f95\n",
    "PROGRAM leitura\n",
    "   IMPLICIT NONE\n",
    "   REAL, DIMENSION(:,:), ALLOCATABLE :: MatA, MatB\n",
    "   REAL :: x\n",
    "   LOGICAL  :: exists\n",
    "   INTEGER  :: erro, i, linha, n\n",
    "   CHARACTER (LEN=80) :: Nome, aux\n",
    "   Nome = TRIM(\"Dados_Aleatorios.dat\")\n",
    "   CALL random_NUMBER(x)\n",
    "   n= NINT(10*x)\n",
    "   ALLOCATE (MatA(n,2), STAT=erro)\n",
    "   IF(erro /= 0) THEN\n",
    "      PRINT *, 'Error in allocating space'\n",
    "      STOP\n",
    "   END IF\n",
    "   CALL random_NUMBER(MatA)\n",
    "   MatA= NINT(1000*MatA)/10.0\n",
    "   OPEN(UNIT=10, FILE=Nome, FORM ='FORMATTED', Status='UNKNOWN')\n",
    "   DO i = 1,n\n",
    "      WRITE(10,*) MatA(i,1), MatA(i,2)\n",
    "   END DO\n",
    "   CLOSE(unit=10, Status='keep')\n",
    "   ! Vamos adicionar alguns elemento extra, ou seja, estamos duplicando o sistema   \n",
    "   OPEN(UNIT=10, FILE=Nome, FORM ='FORMATTED', Status='UNKNOWN', POSITION='APPEND')\n",
    "   DO i = 1,n\n",
    "      WRITE(10,*) MatA(i,1), MatA(i,2)\n",
    "   END DO\n",
    "   CLOSE(unit=10, Status='keep')    \n",
    "   !\n",
    "   Print *, \"O numero de linha da matriz é: \", n\n",
    "   ! Aqui vamos iniciar a leitura do arquivo\n",
    "   INQUIRE(FILE=Nome, EXIST = exists) ! Verifica se o arquivo existe\n",
    "   IF (.NOT. exists) THEN\n",
    "      WRITE (*,'(2A/)') ' >> O arquivo nao existe'\n",
    "      STOP              ! Termina o programa\n",
    "   END IF\n",
    "   OPEN (UNIT=15, FILE =Nome,STATUS ='OLD', FORM='FORMATTED' )\n",
    "   !==================================================================\n",
    "   !  Determinaremos o numero de linhas do arquivo\n",
    "   !------------------------------------------------------------------\n",
    "   !  ERR0 > 0 ==> Ocorreu um erro na leitura\n",
    "   !  ERR0 = 0 ==> Nao ocorreu nenhum tipo de erro\n",
    "   !  ERR0 < 0 ==> Foi encontrado o fim do arquivo\n",
    "   !==================================================================\n",
    "   linha = 0\n",
    "   LER: DO\n",
    "      READ(15, *, IOSTAT = erro, ERR = 10, END=20) aux\n",
    "10    IF ( erro > 0 ) THEN\n",
    "         WRITE(*,*)  'Ocorreu um erro na leitura do arquivo'\n",
    "         PRINT '(2A/)', 'Foi na leitura do arquivo: ', 'Dados.dat'\n",
    "         WRITE(*,*)  'O erro foi o de numero ', erro\n",
    "         STOP  ! Termina o programa\n",
    "      ELSE IF ( erro == 0) THEN\n",
    "         linha = linha + 1\n",
    "         CYCLE LER  ! Volta ao inicio do loop \"ler\"\n",
    "      ELSE IF ( erro < 0 ) THEN\n",
    "         EXIT LER   ! Sai do loop \"ler\"\n",
    "      ENDIF\n",
    "20    WRITE(*,*) 'O numero de linhas lidas foi de', linha\n",
    "      EXIT LER   ! Sai do loop \"ler\"\n",
    "   END DO LER\n",
    "   REWIND(15) ! reposiciona p/ o inicio do arquivo\n",
    "   ALLOCATE (MatB(linha,2), STAT=erro)\n",
    "   IF(erro /= 0) THEN\n",
    "      PRINT *, 'Error in allocating space'\n",
    "      STOP\n",
    "   END IF\n",
    "   DO i = 1,linha\n",
    "      READ(15,*) MatB(i,1), MatB(i,2)\n",
    "      WRITE(*,*) MatA(i,1), MatB(i,1),' == ', MatA(i,2), MatB(i,2)\n",
    "   END DO\n",
    "   CLOSE(unit=15, Status='keep')\n",
    "   x =  MAXVAL(ABS(MatA-MatB))\n",
    "   PRINT *, 'n = ',n, 'linha = ', linha\n",
    "   PRINT *, \"A Maior diferença foi: \", x\n",
    "END PROGRAM leitura"
   ]
  },
  {
   "cell_type": "code",
   "execution_count": 14,
   "metadata": {
    "ExecuteTime": {
     "end_time": "2019-04-10T19:33:16.756960Z",
     "start_time": "2019-04-10T19:33:16.585422Z"
    }
   },
   "outputs": [],
   "source": [
    "! f95 -Wall -std=f2008 -o x src/leitura_e_adicao.f95"
   ]
  },
  {
   "cell_type": "code",
   "execution_count": 17,
   "metadata": {
    "ExecuteTime": {
     "end_time": "2019-04-10T19:34:21.078338Z",
     "start_time": "2019-04-10T19:34:20.923352Z"
    }
   },
   "outputs": [
    {
     "name": "stdout",
     "output_type": "stream",
     "text": [
      " O numero de linha da matriz é:           10\r\n",
      " O numero de linhas lidas foi de          20\r\n",
      "   17.3999996       17.3999996      ==    53.0999985       53.0999985    \r\n",
      "   2.90000010       2.90000010      ==    13.8999996       13.8999996    \r\n",
      "   85.8000031       85.8000031      ==    48.0000000       48.0000000    \r\n",
      "   50.0000000       50.0000000      ==    70.5000000       70.5000000    \r\n",
      "   7.80000019       7.80000019      ==    55.0999985       55.0999985    \r\n",
      "   21.0000000       21.0000000      ==    6.30000019       6.30000019    \r\n",
      "   78.0999985       78.0999985      ==    31.6000004       31.6000004    \r\n",
      "   89.0999985       89.0999985      ==    56.5999985       56.5999985    \r\n",
      "   54.4000015       54.4000015      ==    68.9000015       68.9000015    \r\n",
      "   23.3999996       23.3999996      ==    26.2000008       26.2000008    \r\n",
      "   53.0999985       17.3999996      ==    0.00000000       53.0999985    \r\n",
      "   13.8999996       2.90000010      ==    0.00000000       13.8999996    \r\n",
      "   48.0000000       85.8000031      ==    1.05517774E-42   48.0000000    \r\n",
      "   70.5000000       50.0000000      ==    0.00000000       70.5000000    \r\n",
      "   55.0999985       7.80000019      ==    0.00000000       55.0999985    \r\n",
      "   6.30000019       21.0000000      ==    0.00000000       6.30000019    \r\n",
      "   31.6000004       78.0999985      ==   -8.12675668E-32   31.6000004    \r\n",
      "   56.5999985       89.0999985      ==    3.08776117E-41   56.5999985    \r\n",
      "   68.9000015       54.4000015      ==    0.00000000       68.9000015    \r\n",
      "   26.2000008       23.3999996      ==    0.00000000       26.2000008    \r\n",
      " n =           10 linha =           20\r\n",
      " A Maior diferença foi:    0.00000000    \r\n"
     ]
    }
   ],
   "source": [
    "# Rodando o código\n",
    "! ./x"
   ]
  },
  {
   "cell_type": "code",
   "execution_count": 18,
   "metadata": {
    "ExecuteTime": {
     "end_time": "2019-04-10T19:34:28.043998Z",
     "start_time": "2019-04-10T19:34:27.934226Z"
    }
   },
   "outputs": [
    {
     "name": "stdout",
     "output_type": "stream",
     "text": [
      "     1\t   17.3999996       53.0999985    \r\n",
      "     2\t   2.90000010       13.8999996    \r\n",
      "     3\t   85.8000031       48.0000000    \r\n",
      "     4\t   50.0000000       70.5000000    \r\n",
      "     5\t   7.80000019       55.0999985    \r\n",
      "     6\t   21.0000000       6.30000019    \r\n",
      "     7\t   78.0999985       31.6000004    \r\n",
      "     8\t   89.0999985       56.5999985    \r\n",
      "     9\t   54.4000015       68.9000015    \r\n",
      "    10\t   23.3999996       26.2000008    \r\n",
      "    11\t   17.3999996       53.0999985    \r\n",
      "    12\t   2.90000010       13.8999996    \r\n",
      "    13\t   85.8000031       48.0000000    \r\n",
      "    14\t   50.0000000       70.5000000    \r\n",
      "    15\t   7.80000019       55.0999985    \r\n",
      "    16\t   21.0000000       6.30000019    \r\n",
      "    17\t   78.0999985       31.6000004    \r\n",
      "    18\t   89.0999985       56.5999985    \r\n",
      "    19\t   54.4000015       68.9000015    \r\n",
      "    20\t   23.3999996       26.2000008    \r\n"
     ]
    }
   ],
   "source": [
    "! cat -n Dados_Aleatorios.dat"
   ]
  },
  {
   "cell_type": "markdown",
   "metadata": {},
   "source": [
    "### Síntese dos caracteres de controle \n",
    "\n",
    "- <span style=\"color:red\">Leitura/Escrita de INTEGER</span>\n",
    "\n",
    "| Propósito     | Descritor de Edição |\n",
    "|:------------- | :-------------------|\n",
    "| Lêr/Escrever  | Iw ou Iw.m          |\n",
    "\n",
    "- <span style=\"color:red\">Leitura/Escrita de REAL</span>\n",
    "\n",
    "| Propósito (L/E)     | Descritor de Edição |\n",
    "|:--------------------| :-------------------|\n",
    "| Forma decimal       | Fw.d                |\n",
    "| Forma exponencial   | Ew.d ou Ew.dEe      |\n",
    "| Forma científica    | ESw.d ou ESw.dEe    |\n",
    "| Forma de engenharia | ENw.d ou ENw.dEe    |\n",
    "\n",
    "- <span style=\"color:red\">Leitura/Escrita de LOGICAL</span>\n",
    "\n",
    "| Propósito     | Descritor de Edição |\n",
    "|:------------- | :-------------------|\n",
    "| Lêr/Escrever  | Lw                  |\n",
    "\n",
    "- <span style=\"color:red\">Leitura/Escrita de CHARACTER</span>\n",
    "\n",
    "| Propósito     | Descritor de Edição |\n",
    "|:------------- | :-------------------|\n",
    "| Lêr/Escrever  |  A ou Aw            |\n",
    "\n",
    "| Carácter de Controle | Significado | Descritor de Edição |\n",
    "|:-------------------- | :-----------| :-------------------|\n",
    "| Posição              | Horizontal  | nX                  |\n",
    "| Posição              | Vertical    | /                   |\n",
    "| Posição              | Tabulação   | Tc, TLc e TRc       |\n",
    "| Outros               | Grupo       | r(...)              |\n",
    "| Outros               | Formato de controle | $\\vdots$    |\n",
    "| Outros               | Sinal de controle | S, SP e SS |\n",
    "| Outros               | Sinal de branco   | BN e BZ |\n",
    "\n"
   ]
  },
  {
   "cell_type": "markdown",
   "metadata": {},
   "source": [
    "## Arquivos binário\n",
    "\n",
    "Já demos uma olhada nos arquivos de texto comuns (arquivos ASCII). Nesta seção, vamos dar uma olhada nos arquivos binários que são usados principalmente pelos programas Fortran.\n",
    "\n",
    "Começamos perguntando qual é a diferença entre um arquivo de texto e um arquivo binário. Um arquivo de texto é um arquivo que pode ser exibido em um formato legível na tela e modificado usando um editor de texto comum. Em contraste, um arquivo binário não será exibido em um formato legível e não pode ser modificado usando um editor de texto. O exemplo abaixo mostra como uma parte de um arquivo binário ficaria na tela."
   ]
  },
  {
   "cell_type": "code",
   "execution_count": 2,
   "metadata": {
    "ExecuteTime": {
     "end_time": "2019-01-24T14:35:56.603771Z",
     "start_time": "2019-01-24T14:35:56.595252Z"
    }
   },
   "outputs": [
    {
     "name": "stdout",
     "output_type": "stream",
     "text": [
      "Overwriting src/lista-mat.dat\n"
     ]
    }
   ],
   "source": [
    "%%writefile src/lista-mat.dat\n",
    "&vetor\n",
    "Mat(1) = 14.7200 \n",
    "Mat(2) = 17.2400\n",
    "Mat(3) = 21.7400 \n",
    "Mat(4) = 21.7400\n",
    "Mat(5) = 24.8000\n",
    "Mat(6) = 23.5400\n",
    "Mat(7) = 22.1000\n",
    "Mat(8) = 13.8200\n",
    "Mat(9) = 14.9000\n",
    "Mat(10) = 28.2200\n",
    "/"
   ]
  },
  {
   "cell_type": "code",
   "execution_count": 5,
   "metadata": {
    "ExecuteTime": {
     "end_time": "2019-02-25T14:21:25.019525Z",
     "start_time": "2019-02-25T14:21:25.015493Z"
    }
   },
   "outputs": [
    {
     "name": "stdout",
     "output_type": "stream",
     "text": [
      "Overwriting src/binario_01.f95\n"
     ]
    }
   ],
   "source": [
    "%%writefile src/binario_01.f95\n",
    "PROGRAM binario\n",
    "  IMPLICIT NONE\n",
    "  REAL, DIMENSION(10) :: Mat\n",
    "  NAMELIST /vetor/ mat\n",
    "  OPEN(unit=10, file='src/lista-mat.dat', status='old')\n",
    "  READ(10, nml=vetor)\n",
    "  CLOSE(unit=10)\n",
    "  OPEN(unit=15, file='src/lista-mat.bin', status='unknown', form='unformatted')\n",
    "  WRITE(15) mat\n",
    "  CLOSE(unit=15)\n",
    "END PROGRAM binario"
   ]
  },
  {
   "cell_type": "code",
   "execution_count": 6,
   "metadata": {
    "ExecuteTime": {
     "end_time": "2019-02-25T14:21:27.225524Z",
     "start_time": "2019-02-25T14:21:27.072109Z"
    }
   },
   "outputs": [],
   "source": [
    "# A seguir vamos compilar o programa\n",
    "!f95 -std=f2008 -Wall -Waliasing -pedantic -Wsurprising -Wunderflow -o x src/binario_01.f95"
   ]
  },
  {
   "cell_type": "code",
   "execution_count": 7,
   "metadata": {
    "ExecuteTime": {
     "end_time": "2019-02-25T14:21:31.136473Z",
     "start_time": "2019-02-25T14:21:30.881068Z"
    }
   },
   "outputs": [],
   "source": [
    "# Rodando o programa\n",
    "! ./x"
   ]
  },
  {
   "cell_type": "code",
   "execution_count": 8,
   "metadata": {
    "ExecuteTime": {
     "end_time": "2019-02-25T14:21:35.218463Z",
     "start_time": "2019-02-25T14:21:35.106081Z"
    }
   },
   "outputs": [
    {
     "name": "stdout",
     "output_type": "stream",
     "text": [
      "(\u0000\u0000\u0000\u001f�kA��A��A��Aff�A�Q�A�̰A�\u001e",
      "]AffnA���A(\u0000\u0000\u0000"
     ]
    }
   ],
   "source": [
    "! cat src/lista-mat.bin"
   ]
  },
  {
   "cell_type": "markdown",
   "metadata": {},
   "source": [
    "Portanto, conforme vimos oa arquivo binário tem o seguinte formato\n",
    "\n",
    "```bash\n",
    "(\u001f�kA��A��A��Aff�A�Q�A�̰A�\u001e",
    "]AffnA���A(\n",
    "```\n",
    "\n",
    "Os dados mostrados acima, correspodem a seguinte tabela de números\n",
    "\n",
    "\n",
    "```bash\n",
    "14.7200\n",
    "17.2400\n",
    "21.7400\n",
    "21.7400\n",
    "24.8000\n",
    "23.5400\n",
    "22.1000\n",
    "13.8200\n",
    "14.9000\n",
    "28.2200\n",
    "```\n",
    "\n",
    "Então, por que, podemos perguntar, usamos arquivos binários? A resposta é o espaço de armazenamento e a velocidade de gravação de dados em um arquivo e leitura de dados de um arquivo. Vamos dar um exemplo de um grande número como 18734991.344679912691132, onde cada dígito usa um byte (8 bits) de memória e armazenamento e, portanto, usaria 24 bytes para representar esse número. Em contraste, um único número de precisão usa apenas 4 bytes e um número de precisão dupla usa 8 bytes. Assim, cada vez que lemos esse número a partir de um arquivo em disco ou o escrevemos em um arquivo em disco, podemos ler 3 números binários com a mesma velocidade de um número de texto ASCII. Além disso, o computador usaria algum tempo para converter o número da representação ASCII para sua contrapartida binária. Se tivéssemos um arquivo muito grande (o que é muito comum no campo das ciências naturais), perdemos muito tempo usando números ASCII.\n",
    "\n",
    "\n",
    "Vamos dar uma olhada em como executamos operações de E/S binárias usando o Fortran. Como os arquivos de texto, temos que abri-lo antes que possamos acessar o conteúdo. Os trechos de código a seguir mostram como abrimos um arquivo binário e lemos o conteúdo em uma matriz.\n",
    "\n",
    "\n",
    "```fortran\n",
    "PROGRAM readbinary\n",
    "  IMPLICIT NONE\n",
    "  INTEGER , PARAMETER                 :: lun = 10\n",
    "  INTEGER                             :: res, i, l\n",
    "  REAL , ALLOCATABLE , DIMENSION (:)  :: temperaturas\n",
    "  ....\n",
    "END PROGRAM readbinary\n",
    "```\n",
    "\n",
    "Usamos um número de unidade para nos referirmos ao arquivo, uma vez que o abrimos como fizemos para arquivos de texto. O arquivo contém um conjunto de temperaturas. A primeira entrada no arquivo é um número inteiro que contém o tamanho dos dados de temperatura que estão no formato de precisão única.\n",
    "\n",
    "\n",
    "```fortran\n",
    "PROGRAM readbinary\n",
    "  IMPLICIT NONE\n",
    "  ....\n",
    "  OPEN (UNIT =lun, FILE ='temperatura.bin', FORM ='UNFORMATTED', IOSTAT =res)\n",
    "  IF(res /= 0) THEN\n",
    "     PRINT *, 'Error in opening file '\n",
    "     STOP\n",
    "  END IF\n",
    "  ....\n",
    "END PROGRAM readbinary\n",
    "```\n",
    "\n",
    "Depois de abrir o arquivo, temos que alocar espaço para a matriz antes de podermos ler os dados do arquivo na matriz. Para fazer isso, primeiro temos que ler o número inteiro para obter o tamanho da matriz\n",
    "\n",
    "\n",
    "```fortran\n",
    "PROGRAM readbinary\n",
    "  IMPLICIT NONE\n",
    "  ....\n",
    "  READ (UNIT =lun, IOSTAT =res) l\n",
    "  IF(res /= 0) THEN\n",
    "     PRINT *, 'Error in reading file '\n",
    "     CLOSE (UNIT =lun)\n",
    "     STOP\n",
    "  END IF\n",
    "  ALLOCATE (temperaturas(l), STAT =res)\n",
    "  IF(res /= 0) THEN\n",
    "     PRINT *, ’Error in allocating space’\n",
    "     CLOSE (UNIT =lun)\n",
    "     STOP\n",
    "  END IF\n",
    "  ....\n",
    "END PROGRAM readbinary\n",
    "```\n",
    "\n",
    "É uma boa prática de programação testar se alguma operação de E/S falha. O mesmo é para a alocação de espaço de memória. Não adianta continuar a executar o programa se não conseguirmos obter os dados ou alocar espaço para os dados na memória. Então agora nós alocamos espaço e podemos começar a ler os dados na matriz.\n",
    "\n",
    "\n",
    "```fortran\n",
    "PROGRAM readbinary\n",
    "  IMPLICIT NONE\n",
    "  ....\n",
    "  READ (UNIT=lun, IOSTAT=res) temperaturas\n",
    "  IF(res /= 0) THEN\n",
    "     PRINT *, 'Error in reading file file '\n",
    "     STOP\n",
    "  END IF\n",
    "  ....\n",
    "END PROGRAM readbinary\n",
    "```\n",
    "\n",
    "Em contraste com o arquivo de texto, lemos todo o conjunto de dados em uma única operação, economizando tempo de execução. Além disso, não há necessidade de converter de dígitos ASCII para o número binário, pois os dados são armazenados como números binários. Agora que obtivemos as temperaturas na matriz, podemos executar as operações nos dados conforme desejarmos."
   ]
  },
  {
   "cell_type": "code",
   "execution_count": 3,
   "metadata": {
    "ExecuteTime": {
     "end_time": "2019-01-24T20:25:45.461934Z",
     "start_time": "2019-01-24T20:25:45.453352Z"
    }
   },
   "outputs": [
    {
     "name": "stdout",
     "output_type": "stream",
     "text": [
      "Overwriting src/binario_02.f95\n"
     ]
    }
   ],
   "source": [
    "%%writefile src/binario_02.f95\n",
    "PROGRAM readbinary\n",
    "  IMPLICIT NONE\n",
    "  INTEGER , PARAMETER                 :: lun = 10\n",
    "  INTEGER                             :: res, i, l\n",
    "  REAL , ALLOCATABLE , DIMENSION (:)  :: temperaturas\n",
    "  CHARACTER(LEN=50)                   :: arq\n",
    "  ! Aqui iremos gerar um\n",
    "  l = 10\n",
    "  ALLOCATE (temperaturas(l), STAT =res)\n",
    "  CALL RANDOM_NUMBER(temperaturas)\n",
    "  temperaturas = NINT(1000*temperaturas)/10.0\n",
    "\n",
    "  PRINT *, 'As temperaturas geradas foram:'\n",
    "  PRINT *\n",
    "  DO i=1,l\n",
    "     PRINT *, 'Temperatura = ', temperaturas(i)\n",
    "  END DO\n",
    "  PRINT *\n",
    "  \n",
    "  arq = 'src/temperatura.bin'\n",
    "  OPEN (UNIT=lun, FILE =arq, FORM ='UNFORMATTED', STATUS='UNKNOWN')\n",
    "  WRITE(10) l\n",
    "  WRITE(10) temperaturas\n",
    "  CLOSE(10)\n",
    "  DEALLOCATE (temperaturas)\n",
    "\n",
    "  OPEN (UNIT=lun, FILE =arq, FORM ='UNFORMATTED', IOSTAT =res)\n",
    "  IF(res /= 0) THEN\n",
    "     PRINT *, 'Error in opening file '\n",
    "     STOP\n",
    "  END IF\n",
    "\n",
    "\n",
    "  READ (UNIT =lun, IOSTAT =res) l\n",
    "  IF(res /= 0) THEN\n",
    "     PRINT *, 'Error in reading file '\n",
    "     CLOSE (UNIT =lun)\n",
    "     STOP\n",
    "  END IF\n",
    "  ALLOCATE (temperaturas(l), STAT =res)\n",
    "  IF(res /= 0) THEN\n",
    "     PRINT *, 'Error in allocating space '\n",
    "     CLOSE (UNIT =lun)\n",
    "     STOP\n",
    "  END IF\n",
    "\n",
    "\n",
    "  READ (UNIT=lun, IOSTAT=res) temperaturas\n",
    "  IF(res /= 0) THEN\n",
    "     PRINT *, 'Error in reading file file '\n",
    "     STOP\n",
    "  END IF\n",
    "\n",
    "  PRINT *, 'As temperaturas lidas foram:'\n",
    "  PRINT *  \n",
    "  DO i=1,l\n",
    "     PRINT *, 'Temperatura = ', temperaturas(i)\n",
    "  END DO\n",
    "\n",
    "END PROGRAM readbinary"
   ]
  },
  {
   "cell_type": "code",
   "execution_count": 4,
   "metadata": {
    "ExecuteTime": {
     "end_time": "2019-01-24T20:26:08.368258Z",
     "start_time": "2019-01-24T20:26:08.179982Z"
    }
   },
   "outputs": [],
   "source": [
    "# A seguir vamos compilar o programa\n",
    "!f95 -std=f2008 -Wall -Waliasing -pedantic -Wsurprising -Wunderflow -o x src/binario_02.f95"
   ]
  },
  {
   "cell_type": "code",
   "execution_count": 5,
   "metadata": {
    "ExecuteTime": {
     "end_time": "2019-01-24T20:26:28.058211Z",
     "start_time": "2019-01-24T20:26:27.945474Z"
    }
   },
   "outputs": [
    {
     "name": "stdout",
     "output_type": "stream",
     "text": [
      " As temperaturas geradas foram:\r\n",
      "\r\n",
      " Temperatura =    95.8000031    \r\n",
      " Temperatura =    28.5000000    \r\n",
      " Temperatura =    14.1999998    \r\n",
      " Temperatura =    20.7999992    \r\n",
      " Temperatura =    28.8999996    \r\n",
      " Temperatura =    14.8999996    \r\n",
      " Temperatura =    40.7000008    \r\n",
      " Temperatura =    90.3000031    \r\n",
      " Temperatura =    38.2999992    \r\n",
      " Temperatura =    33.0000000    \r\n",
      "\r\n",
      " As temperaturas lidas foram:\r\n",
      "\r\n",
      " Temperatura =    95.8000031    \r\n",
      " Temperatura =    28.5000000    \r\n",
      " Temperatura =    14.1999998    \r\n",
      " Temperatura =    20.7999992    \r\n",
      " Temperatura =    28.8999996    \r\n",
      " Temperatura =    14.8999996    \r\n",
      " Temperatura =    40.7000008    \r\n",
      " Temperatura =    90.3000031    \r\n",
      " Temperatura =    38.2999992    \r\n",
      " Temperatura =    33.0000000    \r\n"
     ]
    }
   ],
   "source": [
    "# Rodando o programa\n",
    "! ./x"
   ]
  },
  {
   "cell_type": "markdown",
   "metadata": {},
   "source": [
    "### Usando `Namelist`\n",
    "\n",
    "Além de arquivos ASCII e arquivos binários, o Fortran possui um terceiro tipo de arquivos. é chamado de arquivo NAMELIST. Um arquivo de lista de nomes é usado para carregar valores para um conjunto de variáveis em uma operação de leitura sem especificar quaisquer variáveis que recebam dados como em uma leitura comum. Então, como estamos usando essa construção de lista de nomes? O exemplo de código abaixo mostra como isso pode ser feito.\n",
    "\n",
    "```fortran\n",
    "PROGRAM nml_test\n",
    "  IMPLICIT NONE\n",
    "  INTEGER , PARAMETER  :: lun = 10\n",
    "  INTEGER              :: res\n",
    "  INTEGER              :: x, y, z\n",
    "  INTEGER              :: l \n",
    "  ....\n",
    "  NAMELIST /ints/ x, y, z, l\n",
    "  ....\n",
    "END PROGRAM nml_test\n",
    "```\n",
    "\n",
    "A linha que contém o `NAMELIST` é dividida em três partes. Primeiro é a lista de palavras-chave, depois o nome da lista de nomes `/ints/` neste caso e as primeiras variáveis pertencentes à lista de nomes. Observe que o nome da lista de nomes está incluso em barras. Para ler o conteúdo do arquivo de lista de nomes, ele é aberto como um arquivo comum, mas usamos outro uso da função de leitura. O código abaixo mostra como isso pode ser feito.\n",
    "\n",
    "\n",
    "```fortran\n",
    "PROGRAM nml_test\n",
    "  IMPLICIT NONE\n",
    "  ....\n",
    "  OPEN (UNIT=lun, FILE='list.txt', STATUS ='OLD', IOSTAT =res)\n",
    "  READ (UNIT=lun,NML=ints, IOSTAT =res)\n",
    "  ....\n",
    "END PROGRAM nml_test\n",
    "```\n",
    "\n",
    "Então, como é um arquivo de lista de nomes? O código abaixo mostra como um arquivo de lista de nomes para a lista de nomes do ints é gravado.\n",
    "\n",
    "```bash\n",
    "&ints\n",
    "x = 10\n",
    "y = 14\n",
    "z = 6\n",
    "l = 99\n",
    "/\n",
    "```\n",
    "\n",
    "A primeira linha começa com um e-comercial `&` seguido pelo nome da lista de nomes. As próximas linhas são as variáveis que declaramos juntamente com os valores para cada variável. A última linha é uma barra `/` denotando o fim da lista de nomes. Um arquivo de lista de nomes pode ter várias listas de nomes, cada lista de nomes incluída noe comercial e barra.\n",
    "\n",
    "### Exercícios\n",
    "\n",
    "1. Escreva um programa que leia o conteúdo de um arquivo ASCII curto em uma matriz, execute a matriz de cálculo (i) = array (i) + i e salve o resultado em um novo arquivo\n",
    "\n",
    "2. Faça o mesmo, mas desta vez leia e escreva em formato binário"
   ]
  },
  {
   "cell_type": "code",
   "execution_count": null,
   "metadata": {},
   "outputs": [],
   "source": []
  }
 ],
 "metadata": {
  "kernelspec": {
   "display_name": "Python 3",
   "language": "python",
   "name": "python3"
  },
  "language_info": {
   "codemirror_mode": {
    "name": "ipython",
    "version": 3
   },
   "file_extension": ".py",
   "mimetype": "text/x-python",
   "name": "python",
   "nbconvert_exporter": "python",
   "pygments_lexer": "ipython3",
   "version": "3.6.7"
  },
  "latex_envs": {
   "LaTeX_envs_menu_present": true,
   "autoclose": false,
   "autocomplete": false,
   "bibliofile": "biblio.bib",
   "cite_by": "apalike",
   "current_citInitial": 1,
   "eqLabelWithNumbers": true,
   "eqNumInitial": 1,
   "hotkeys": {
    "equation": "Ctrl-E",
    "itemize": "Ctrl-I"
   },
   "labels_anchors": false,
   "latex_user_defs": false,
   "report_style_numbering": false,
   "user_envs_cfg": false
  },
  "nbTranslate": {
   "displayLangs": [
    "pt",
    "en"
   ],
   "hotkey": "alt-t",
   "langInMainMenu": true,
   "sourceLang": "en",
   "targetLang": "pt",
   "useGoogleTranslate": true
  },
  "toc": {
   "base_numbering": 1,
   "nav_menu": {},
   "number_sections": true,
   "sideBar": true,
   "skip_h1_title": false,
   "title_cell": "Table of Contents",
   "title_sidebar": "Contents",
   "toc_cell": false,
   "toc_position": {},
   "toc_section_display": true,
   "toc_window_display": false
  },
  "varInspector": {
   "cols": {
    "lenName": 16,
    "lenType": 16,
    "lenVar": 40
   },
   "kernels_config": {
    "python": {
     "delete_cmd_postfix": "",
     "delete_cmd_prefix": "del ",
     "library": "var_list.py",
     "varRefreshCmd": "print(var_dic_list())"
    },
    "r": {
     "delete_cmd_postfix": ") ",
     "delete_cmd_prefix": "rm(",
     "library": "var_list.r",
     "varRefreshCmd": "cat(var_dic_list()) "
    }
   },
   "types_to_exclude": [
    "module",
    "function",
    "builtin_function_or_method",
    "instance",
    "_Feature"
   ],
   "window_display": false
  }
 },
 "nbformat": 4,
 "nbformat_minor": 2
}
